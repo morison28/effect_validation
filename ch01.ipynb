{
 "cells": [
  {
   "cell_type": "markdown",
   "metadata": {},
   "source": [
    "# 1. セレクションバイアスとRCT"
   ]
  },
  {
   "cell_type": "markdown",
   "metadata": {},
   "source": [
    "やっていること\n",
    "- 計量経済学や因果推論の基本用語を抑える\n",
    "- 平均処置的効果はセレクションバイアスによって悪影響をうけることを確認する\n",
    "- 有意差検定の基礎，限界を理解する\n",
    "- 実データで有意差検定による効果検証を試してみる"
   ]
  },
  {
   "cell_type": "code",
   "execution_count": null,
   "metadata": {},
   "outputs": [],
   "source": []
  },
  {
   "cell_type": "markdown",
   "metadata": {},
   "source": [
    "- `効果`：ビジネスにおいて何らかのアクションが，売上などのビジネス上重要なKPIに与えた影響\n",
    "- `介入`:何らかのアクションのこと\n",
    "    - 商品やサービスのリニューアル\n",
    "    - 別の広告キャンペーン\n",
    "    - ポイントの配布やキャッシュバック\n",
    "    - 競合他者の広告キャンペーン\n",
    "- 潜在的な購買量\n",
    "    - 介入をせずとも観測される売上\n",
    "- 誤った比較\n",
    "    1. 介入をしたグループ    \n",
    "        1-2. 介入をした場合の売上     \n",
    "        1-2. 介入をしなかった場合の売上\n",
    "    2. 介入をしてないグループ\n",
    "    - 本当に知りたいのは`1-1`と`1-2`．しかし，現実では`1-1`と`2`を単純比較してしまうことが多い\n",
    "    - しかし，全く同じサンプルで同時期に介入を行なった場合とそうでない場合の売上のデータを得ることは不可能(**因果推論の根本問題**)\n",
    "    - 後述するRCTでは，介入を無作為化する(ABテスト)\n",
    "\n",
    "![pic](data/ch02-01.png)\n",
    "\n",
    "- `バイアス`：データから得られた分析結果と本当の効果の乖離\n",
    "- `セレクションバイアス`：そもそも比較しているグループの潜在的な傾向が違うことによって発生するバイアス\n",
    "\n",
    "- 介入を行う層は介入をしない層に比べて潜在的な購買量が高いことが多い\n",
    "    - 例えばマーケティングでクーポン付きメールを送る状況を考えると，メールの送信対象は以下のようなユーザであると考えられる．\n",
    "        - 過去の購買量が多い\n",
    "        - 最近購買を行なったなどのユーザ\n",
    "        - クーポンが適応されている商品と同じ商品を過去に購買したユーザ \n",
    "    - この場合メール自体に大きな効果がなくても，潜在的な購買量の差によってあたかもメールマーケティングに絶大な効果があるように見えてしまう\n",
    "    - バイアスのある効果検証では以下のような負の連鎖が発生する\n",
    "        - 施策を始める\n",
    "        - バイアスのある評価を行う\n",
    "        - バイアスのある評価を元に施策を改善する\n",
    "        - 次の施策の設計を行う\n",
    "        - 次の施策を実行する\n",
    "    - すると，**本当にKPIを改善しているかわからないものにコストを支払い続けてしまったり，蓄積される知見の多くがセレクションバイアスの作り方になってしまう!**\n",
    "- RCT(Randomized Controlled Trial)\n",
    "    - RCTは介入を行う層を全くのランダムで決定する\n",
    "    - すると潜在的な購買量の差はゼロになるので，セレクションバイアスはなくなり正しく効果を測定できる\n",
    "    - ABテストなどと呼ばれる\n",
    "    - RCTの実行にはコストがかかるため，実施が難しいことが多い\n",
    "    - **計量経済学や因果推論は，理想的にはRCTでデータをデザインして分析したいが，それが不可能な状態において，RCTの結果をするような方法論を提供する**"
   ]
  },
  {
   "cell_type": "code",
   "execution_count": null,
   "metadata": {},
   "outputs": [],
   "source": []
  },
  {
   "cell_type": "markdown",
   "metadata": {},
   "source": [
    "効果検証の目的を整理すると\n",
    "- ｢得られたデータから母集団における介入の効果を推定すること｣\n",
    "\n",
    "\n",
    "あるサンプル$i$に介入を行なった場合を以下で定義\n",
    "$$\n",
    "Z_i = \n",
    "\\left\\{\n",
    "\\begin{array}{ll}\n",
    "1 & (介入が行われた場合) \\\\\n",
    "0 & (介入が行われなかった場合)\n",
    "\\end{array}\n",
    "\\right.\n",
    "$$\n",
    "次にユーザ$i$の売上を以下で定義\n",
    "$$\n",
    "Y_i = \n",
    "\\left\\{\n",
    "\\begin{array}{ll}\n",
    "Y_i^{(1)} & (Z_i = 1) \\\\\n",
    "Y_i^{(0)} & (Z_i = 0)\n",
    "\\end{array}\n",
    "\\right.\n",
    "$$\n",
    "これは以下のようにも表現できる\n",
    "$$\n",
    "Y_i = Y_i^{(0)} (1-Z_i)+ Y_i^{(1)} Z_i\n",
    "$$\n",
    "- このとき，$Y_i^{(0)}$と$Y_i^{(1)}$は他方が観測されると，他方は観測されない(同時に観測はできない，因果推論の根本問題)\n",
    "- 観測されない側のことを**ポテンシャルワウとカム**と呼び，実現値とポテンシャルアウトカムの差に介入の効果があると考えることを**ポテンシャルアウトカムフレームワーク**と呼ぶ"
   ]
  },
  {
   "cell_type": "code",
   "execution_count": null,
   "metadata": {},
   "outputs": [],
   "source": []
  },
  {
   "cell_type": "markdown",
   "metadata": {},
   "source": [
    "ATEによる効果の比較がセレクションバイアスによって悪影響を受けていることの確認．    \n",
    "平均を比較するだけの検証方法はセレクションバイアスを含む結果となり，それを元にした意思決定を行うことはビジネス上大きなリスクになる可能性がある．これはマーケティングなどで見られる典型的なセレクションバイアスの問題である．\n",
    "\n",
    "以下のような疑似データで考える"
   ]
  },
  {
   "cell_type": "code",
   "execution_count": 2,
   "metadata": {},
   "outputs": [],
   "source": [
    "import pandas as pd"
   ]
  },
  {
   "cell_type": "code",
   "execution_count": 9,
   "metadata": {},
   "outputs": [
    {
     "data": {
      "text/html": [
       "<div>\n",
       "<style scoped>\n",
       "    .dataframe tbody tr th:only-of-type {\n",
       "        vertical-align: middle;\n",
       "    }\n",
       "\n",
       "    .dataframe tbody tr th {\n",
       "        vertical-align: top;\n",
       "    }\n",
       "\n",
       "    .dataframe thead th {\n",
       "        text-align: right;\n",
       "    }\n",
       "</style>\n",
       "<table border=\"1\" class=\"dataframe\">\n",
       "  <thead>\n",
       "    <tr style=\"text-align: right;\">\n",
       "      <th></th>\n",
       "      <th>i</th>\n",
       "      <th>Y</th>\n",
       "      <th>Y^0</th>\n",
       "      <th>Y^1</th>\n",
       "      <th>Z</th>\n",
       "      <th>tau</th>\n",
       "    </tr>\n",
       "  </thead>\n",
       "  <tbody>\n",
       "    <tr>\n",
       "      <th>0</th>\n",
       "      <td>1</td>\n",
       "      <td>300</td>\n",
       "      <td>300</td>\n",
       "      <td>400</td>\n",
       "      <td>0</td>\n",
       "      <td>100</td>\n",
       "    </tr>\n",
       "    <tr>\n",
       "      <th>1</th>\n",
       "      <td>2</td>\n",
       "      <td>600</td>\n",
       "      <td>500</td>\n",
       "      <td>600</td>\n",
       "      <td>1</td>\n",
       "      <td>100</td>\n",
       "    </tr>\n",
       "    <tr>\n",
       "      <th>2</th>\n",
       "      <td>3</td>\n",
       "      <td>600</td>\n",
       "      <td>500</td>\n",
       "      <td>600</td>\n",
       "      <td>1</td>\n",
       "      <td>100</td>\n",
       "    </tr>\n",
       "    <tr>\n",
       "      <th>3</th>\n",
       "      <td>4</td>\n",
       "      <td>300</td>\n",
       "      <td>300</td>\n",
       "      <td>400</td>\n",
       "      <td>0</td>\n",
       "      <td>100</td>\n",
       "    </tr>\n",
       "    <tr>\n",
       "      <th>4</th>\n",
       "      <td>5</td>\n",
       "      <td>300</td>\n",
       "      <td>300</td>\n",
       "      <td>400</td>\n",
       "      <td>0</td>\n",
       "      <td>100</td>\n",
       "    </tr>\n",
       "    <tr>\n",
       "      <th>5</th>\n",
       "      <td>6</td>\n",
       "      <td>600</td>\n",
       "      <td>500</td>\n",
       "      <td>600</td>\n",
       "      <td>1</td>\n",
       "      <td>100</td>\n",
       "    </tr>\n",
       "    <tr>\n",
       "      <th>6</th>\n",
       "      <td>7</td>\n",
       "      <td>600</td>\n",
       "      <td>500</td>\n",
       "      <td>600</td>\n",
       "      <td>1</td>\n",
       "      <td>100</td>\n",
       "    </tr>\n",
       "    <tr>\n",
       "      <th>7</th>\n",
       "      <td>8</td>\n",
       "      <td>300</td>\n",
       "      <td>300</td>\n",
       "      <td>400</td>\n",
       "      <td>0</td>\n",
       "      <td>100</td>\n",
       "    </tr>\n",
       "    <tr>\n",
       "      <th>8</th>\n",
       "      <td>9</td>\n",
       "      <td>600</td>\n",
       "      <td>500</td>\n",
       "      <td>600</td>\n",
       "      <td>1</td>\n",
       "      <td>100</td>\n",
       "    </tr>\n",
       "    <tr>\n",
       "      <th>9</th>\n",
       "      <td>10</td>\n",
       "      <td>300</td>\n",
       "      <td>300</td>\n",
       "      <td>400</td>\n",
       "      <td>0</td>\n",
       "      <td>100</td>\n",
       "    </tr>\n",
       "  </tbody>\n",
       "</table>\n",
       "</div>"
      ],
      "text/plain": [
       "    i    Y  Y^0  Y^1  Z  tau\n",
       "0   1  300  300  400  0  100\n",
       "1   2  600  500  600  1  100\n",
       "2   3  600  500  600  1  100\n",
       "3   4  300  300  400  0  100\n",
       "4   5  300  300  400  0  100\n",
       "5   6  600  500  600  1  100\n",
       "6   7  600  500  600  1  100\n",
       "7   8  300  300  400  0  100\n",
       "8   9  600  500  600  1  100\n",
       "9  10  300  300  400  0  100"
      ]
     },
     "metadata": {},
     "output_type": "display_data"
    }
   ],
   "source": [
    "smpl = pd.DataFrame({\n",
    "    'i': list(range(1,11)),\n",
    "    'Y': [300,600,600,300,300,600,600,300,600,300],\n",
    "    'Y^0':[300,500,500,300,300,500,500,300,500,300],\n",
    "    'Y^1':[400,600,600,400,400,600,600,400,600,400],\n",
    "    'Z': [0,1,1,0,0,1,1,0,1,0],\n",
    "})\n",
    "smpl['tau'] = smpl['Y^1'] - smpl['Y^0'] # 効果は100になるように疑似データを作成している\n",
    "display(smpl)"
   ]
  },
  {
   "cell_type": "markdown",
   "metadata": {},
   "source": [
    "介入の効果を表す値は以下の式で表すことが可能\n",
    "$$\n",
    "\\tau = Y^{(1)} - Y^{(0)}\n",
    "$$\n",
    "しかし，分析者は$Y$, $Z$のみが観測可能であるため，直接計算をして$\\tau$を求めることはできない．"
   ]
  },
  {
   "cell_type": "markdown",
   "metadata": {},
   "source": [
    "よって，平均的な効果を考える\n",
    "$$\n",
    "\\tau = \\mathbf{E}(Y^{(1)}) - \\mathbf{E}(Y^{(0)})\n",
    "$$\n",
    "興味のある介入の効果$\\tau$とは，母集団における介入を受けた場合の売上と，介入を受けなかった場合の売上の平均の差ということになる．**(平均処置効果(Average Treatment Effect; ATE))**\n",
    "    \n",
    "平均的な効果を比較してみる．効果の推定値を$\\tau_{naive}$と呼ぶ．\n",
    "$$\n",
    "\\tau_{naive} = \\frac{1}{\\sum_{i=1}^{N}Z_i}\\sum_{i=1}^{N} Y_i Z_i -  \\frac{1}{\\sum_{i=1}^{N}(1-Z_i)}\\sum_{i=1}^{N} Y_i(1-Z_i)\n",
    "$$\n",
    "実際に計算してみると"
   ]
  },
  {
   "cell_type": "code",
   "execution_count": 20,
   "metadata": {},
   "outputs": [
    {
     "name": "stdout",
     "output_type": "stream",
     "text": [
      "300.0\n"
     ]
    }
   ],
   "source": [
    "tmp = smpl.groupby('Z').agg({'Y': ['size', 'sum']})\n",
    "tmp.columns = tmp.columns.droplevel(0)\n",
    "tmp['mean'] = tmp['sum'] / tmp['size']\n",
    "tau_naive = tmp['mean'].iloc[1] - tmp['mean'].iloc[0]\n",
    "print(tau_naive)"
   ]
  },
  {
   "cell_type": "markdown",
   "metadata": {},
   "source": [
    "ATEによる効果は`300`    \n",
    "しかし，本来は100しかない効果がなぜ300と過剰に測定されてしまうのか？"
   ]
  },
  {
   "cell_type": "markdown",
   "metadata": {},
   "source": [
    "$\\tau_{naive}$を条件付き期待値を用いて書き直すと\n",
    "$$\n",
    "\\tau_{naive} = \\mathbf{E}[Y^{(1}|Z=1] - \\mathbf{E}[Y^{(0}|Z=0]\n",
    "$$\n",
    "この式を更に分解する\n",
    "$$\n",
    "\\begin{align}\n",
    "\\tau_{naive} &= \\mathbf{E}[Y^{(1}|Z=1] - \\mathbf{E}[Y^{(0}|Z=0] \\\\\n",
    "&= \\mathbf{E}[Y^{(1)}|Z=1] - \\mathbf{E}[Y^{(0)}|Z=1] + \\mathbf{E}[Y^{(0)}|Z=1] -  \\mathbf{E}[Y^{(0)}|Z=0] \\\\\n",
    "&=  \\mathbf{E}[Y^{(1)}-Y^{(0)}|Z=1] + \\mathbf{E}[Y^{(0)}|Z=1] -  \\mathbf{E}[Y^{(0)}|Z=0] \n",
    "\\end{align}\n",
    "$$\n",
    "$\\mathbf{E}[Y^{(1)}-Y^{(0)}|Z=1]$は，$Z_i=1$に成るようなサンプルにおける効果の期待値を意味する．Zの値と効果の大きさには関連性が無いと仮定できて，\n",
    "$$\n",
    "\\mathbf{E}[Y^{(1)}-Y^{(0)}|Z=1] = \\mathbf{E}[Y^{(1)} - Y^{(0)}]\n",
    "$$\n",
    "ということになり，本当の介入による効果を示している．    \n",
    "後半の，$\\mathbf{E}[Y^{(0)}|Z=1] -  \\mathbf{E}[Y^{(0)}|Z=0]$は，介入が行われなかった場合の結果の差を，実際に介入が行われたグループとそうでないグループでとったもの．つまり，これがセレクションバイアスに該当する．つまり，潜在的な購買量の比較項．**RCTをするとこの部分は0になる**"
   ]
  },
  {
   "cell_type": "code",
   "execution_count": null,
   "metadata": {},
   "outputs": [],
   "source": []
  },
  {
   "cell_type": "markdown",
   "metadata": {},
   "source": [
    "有意差検定について"
   ]
  },
  {
   "cell_type": "markdown",
   "metadata": {},
   "source": [
    "- 介入の効果の推定結果が偶然得られた可能性について検証\n",
    "    - この場合偶然得られた可能性とは，おおまかには母集団上では効果がまったくないのにも関わらず，得られた手元のデータではあたかも効果があるような結果が得られているという可能性を指す．\n",
    "- 分析結果において，介入の効果が偶然得られたものであるかを評価するためには，メールを配信したときの平均と配信しなかったときの平均差が0になるかを検証する必要がある\n",
    "- このような検証では**t検定**がよく利用される．十分なサンプルサイズがある場合，手元に得られたデータにおける平均の分布はもともとのデータがどんな分布であれ近似できるという中心極限定理から得られる結論を根拠に行われる．\n",
    "- つまり，効果を示すグループ間の平均の差は正規分布に近似するため，この差が本来0であるかはt検定を用いて評価すれば良い"
   ]
  },
  {
   "cell_type": "markdown",
   "metadata": {},
   "source": [
    "t検定のプロセス\n",
    "- 標準語誤差の算出\n",
    "- 効果の推定値と標準誤差を使ってt値を算出\n",
    "- t値からp値の算出\n",
    "- p値と有意水準を比較\n",
    "    - p値が低いなら，差は統計的に有意\n",
    "    - p値が高いなら，効果が0であるケースを否定しきれない"
   ]
  },
  {
   "cell_type": "markdown",
   "metadata": {},
   "source": [
    "※\n",
    "- 分析の不確実性を評価することは非常に複雑な作業\n",
    "- 有意差検定は評価を簡略化して考えるためのルールであり，絶対的な判断基準ではない\n",
    "- 実際，RCTを行なっていないデータで有意差検定を行う場合，セレクションバイアスが大きいと有意差検定の結果は有意になりやすいことがある．"
   ]
  },
  {
   "cell_type": "code",
   "execution_count": null,
   "metadata": {},
   "outputs": [],
   "source": []
  },
  {
   "cell_type": "code",
   "execution_count": null,
   "metadata": {},
   "outputs": [],
   "source": []
  },
  {
   "cell_type": "markdown",
   "metadata": {},
   "source": [
    "実データによる演習：ECサイトのユーザに対してRCTを適用したメールマーケティングを行なったデータ"
   ]
  },
  {
   "cell_type": "code",
   "execution_count": null,
   "metadata": {},
   "outputs": [],
   "source": [
    "import pandas as pd\n",
    "\n",
    "pd.read_csv('data/Kevin_Hillstrom_MineThatData_E-MailAnalytics_DataMiningChallenge_2008.03.20.csv').head()"
   ]
  }
 ],
 "metadata": {
  "kernelspec": {
   "display_name": "Python 3",
   "language": "python",
   "name": "python3"
  },
  "language_info": {
   "codemirror_mode": {
    "name": "ipython",
    "version": 3
   },
   "file_extension": ".py",
   "mimetype": "text/x-python",
   "name": "python",
   "nbconvert_exporter": "python",
   "pygments_lexer": "ipython3",
   "version": "3.8.10"
  },
  "toc-autonumbering": false
 },
 "nbformat": 4,
 "nbformat_minor": 4
}

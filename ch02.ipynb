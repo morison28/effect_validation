{
 "cells": [
  {
   "cell_type": "markdown",
   "metadata": {},
   "source": [
    "# 2.介入効果を測るための回帰分析"
   ]
  },
  {
   "cell_type": "markdown",
   "metadata": {},
   "source": [
    "- RCTを行なっていないデータを使用してセレクションバイアスを無視するような分析にはリスクがあることを学んだ\n",
    "- 回帰分析を利用することで，セレクションバイアスの影響が少ない分析ができる\n",
    "- 回帰分析は最も基本的なセレクションバイアスの削除方法である\n",
    "- 因果推論における回帰分析は指定した変数の傾向が似ているサンプル同士を比較する\n",
    "- セレクションバイアスを発生しているであろう変数指定することで，それらの傾向が似通った状態，セレクションバイアスが軽減された状態で効果を検証できる"
   ]
  },
  {
   "cell_type": "code",
   "execution_count": null,
   "metadata": {},
   "outputs": [],
   "source": []
  },
  {
   "cell_type": "markdown",
   "metadata": {},
   "source": []
  },
  {
   "cell_type": "markdown",
   "metadata": {},
   "source": []
  },
  {
   "cell_type": "code",
   "execution_count": null,
   "metadata": {},
   "outputs": [],
   "source": []
  }
 ],
 "metadata": {
  "kernelspec": {
   "display_name": "Python 3",
   "language": "python",
   "name": "python3"
  },
  "language_info": {
   "codemirror_mode": {
    "name": "ipython",
    "version": 3
   },
   "file_extension": ".py",
   "mimetype": "text/x-python",
   "name": "python",
   "nbconvert_exporter": "python",
   "pygments_lexer": "ipython3",
   "version": "3.8.10"
  }
 },
 "nbformat": 4,
 "nbformat_minor": 4
}

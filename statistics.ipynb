{
 "cells": [
  {
   "cell_type": "markdown",
   "metadata": {},
   "source": [
    "統計学の勉強･復習\n",
    "\n",
    "- 大数の法則\n",
    "- 中心極限定理\n",
    "- 検定\n",
    "    - t検定\n",
    "    - 2標本検定\n",
    "    - 適合度検定"
   ]
  },
  {
   "cell_type": "code",
   "execution_count": 12,
   "metadata": {},
   "outputs": [],
   "source": [
    "import numpy as np\n",
    "from scipy.special import comb\n",
    "import pandas as pd\n",
    "import matplotlib.pyplot as plt\n",
    "%matplotlib inline"
   ]
  },
  {
   "cell_type": "markdown",
   "metadata": {},
   "source": [
    "正しいコインを$n$回投げることを考える．$x_i\\in\\{0,1\\}$(0が裏，1が表)．表が出た回数は$r = \\sum_{i=1}^{N}$である．$r$は確率変数で$Bi(n, 0.5)$に従う．表が出た相対頻度の期待値は\n",
    "$$\n",
    "\\mathbf{E}(r/n) = 0.5\n",
    "$$\n",
    "となり．真の確率`0.5`となる．"
   ]
  },
  {
   "cell_type": "markdown",
   "metadata": {},
   "source": [
    "## 大数の法則"
   ]
  },
  {
   "cell_type": "code",
   "execution_count": 25,
   "metadata": {},
   "outputs": [],
   "source": [
    "def binomial(n, x):\n",
    "    \"\"\"\n",
    "    n : コインを投げる回数\n",
    "    x : 表の出る回数\n",
    "    \"\"\"\n",
    "    return comb(n, x) * 0.5 ** n"
   ]
  },
  {
   "cell_type": "markdown",
   "metadata": {},
   "source": [
    "n回コインを投げて表がx回でる確率"
   ]
  },
  {
   "cell_type": "code",
   "execution_count": 26,
   "metadata": {},
   "outputs": [
    {
     "data": {
      "text/html": [
       "<div>\n",
       "<style scoped>\n",
       "    .dataframe tbody tr th:only-of-type {\n",
       "        vertical-align: middle;\n",
       "    }\n",
       "\n",
       "    .dataframe tbody tr th {\n",
       "        vertical-align: top;\n",
       "    }\n",
       "\n",
       "    .dataframe thead th {\n",
       "        text-align: right;\n",
       "    }\n",
       "</style>\n",
       "<table border=\"1\" class=\"dataframe\">\n",
       "  <thead>\n",
       "    <tr style=\"text-align: right;\">\n",
       "      <th></th>\n",
       "      <th>proba</th>\n",
       "      <th>x_per_10</th>\n",
       "    </tr>\n",
       "  </thead>\n",
       "  <tbody>\n",
       "    <tr>\n",
       "      <th>0</th>\n",
       "      <td>0.000977</td>\n",
       "      <td>0.0</td>\n",
       "    </tr>\n",
       "    <tr>\n",
       "      <th>1</th>\n",
       "      <td>0.009766</td>\n",
       "      <td>0.1</td>\n",
       "    </tr>\n",
       "    <tr>\n",
       "      <th>2</th>\n",
       "      <td>0.043945</td>\n",
       "      <td>0.2</td>\n",
       "    </tr>\n",
       "    <tr>\n",
       "      <th>3</th>\n",
       "      <td>0.117188</td>\n",
       "      <td>0.3</td>\n",
       "    </tr>\n",
       "    <tr>\n",
       "      <th>4</th>\n",
       "      <td>0.205078</td>\n",
       "      <td>0.4</td>\n",
       "    </tr>\n",
       "    <tr>\n",
       "      <th>5</th>\n",
       "      <td>0.246094</td>\n",
       "      <td>0.5</td>\n",
       "    </tr>\n",
       "    <tr>\n",
       "      <th>6</th>\n",
       "      <td>0.205078</td>\n",
       "      <td>0.6</td>\n",
       "    </tr>\n",
       "    <tr>\n",
       "      <th>7</th>\n",
       "      <td>0.117188</td>\n",
       "      <td>0.7</td>\n",
       "    </tr>\n",
       "    <tr>\n",
       "      <th>8</th>\n",
       "      <td>0.043945</td>\n",
       "      <td>0.8</td>\n",
       "    </tr>\n",
       "    <tr>\n",
       "      <th>9</th>\n",
       "      <td>0.009766</td>\n",
       "      <td>0.9</td>\n",
       "    </tr>\n",
       "    <tr>\n",
       "      <th>10</th>\n",
       "      <td>0.000977</td>\n",
       "      <td>1.0</td>\n",
       "    </tr>\n",
       "  </tbody>\n",
       "</table>\n",
       "</div>"
      ],
      "text/plain": [
       "       proba  x_per_10\n",
       "0   0.000977       0.0\n",
       "1   0.009766       0.1\n",
       "2   0.043945       0.2\n",
       "3   0.117188       0.3\n",
       "4   0.205078       0.4\n",
       "5   0.246094       0.5\n",
       "6   0.205078       0.6\n",
       "7   0.117188       0.7\n",
       "8   0.043945       0.8\n",
       "9   0.009766       0.9\n",
       "10  0.000977       1.0"
      ]
     },
     "execution_count": 26,
     "metadata": {},
     "output_type": "execute_result"
    }
   ],
   "source": [
    "df = pd.DataFrame({\n",
    "    'proba': [binomial(10,i) for i in range(11)]\n",
    "})\n",
    "df['x_per_10'] = df.index / 10\n",
    "df"
   ]
  },
  {
   "cell_type": "markdown",
   "metadata": {},
   "source": [
    "5回周辺に集中しており，確率は"
   ]
  },
  {
   "cell_type": "code",
   "execution_count": 27,
   "metadata": {},
   "outputs": [
    {
     "data": {
      "text/plain": [
       "0.65625"
      ]
     },
     "execution_count": 27,
     "metadata": {},
     "output_type": "execute_result"
    }
   ],
   "source": [
    "df.query(\" 0.4 <= x_per_10 <= 0.6 \")['proba'].sum()"
   ]
  },
  {
   "cell_type": "markdown",
   "metadata": {},
   "source": [
    "コインを投げる回数を増やしていけば，`0.4 <= x/n <= 0.6`に収まる確率が`100%`に近づいていく(これが大数の法則)．n回投げればコインの表が出る相対頻度は0.5なんだから何回も投げれば0.5に収束するよねという話"
   ]
  },
  {
   "cell_type": "code",
   "execution_count": 28,
   "metadata": {},
   "outputs": [],
   "source": [
    "def calc_proba(n):\n",
    "    \"\"\"\n",
    "    n回コインを投げた場合の表が出る回数の相対頻度が0.4 ~ 0.6に収まる確率を計算してみる\n",
    "    \"\"\"\n",
    "    df = pd.DataFrame({\n",
    "        'proba': [binomial(n,i) for i in range(n+1)]\n",
    "    })\n",
    "    df['x_per_n'] = df.index / n\n",
    "    return df.query(\" 0.4 <= x_per_n <= 0.6 \")['proba'].sum()"
   ]
  },
  {
   "cell_type": "code",
   "execution_count": 32,
   "metadata": {},
   "outputs": [
    {
     "name": "stdout",
     "output_type": "stream",
     "text": [
      "n=010 : proba = 0.65625\n",
      "n=020 : proba = 0.7368240356445312\n",
      "n=030 : proba = 0.7995115779340267\n",
      "n=040 : proba = 0.8461400558371679\n",
      "n=050 : proba = 0.8810795474405637\n",
      "n=100 : proba = 0.964799799782295\n",
      "n=1000 : proba = 0.9999999998202969\n"
     ]
    }
   ],
   "source": [
    "for n in [10, 20, 30, 40, 50, 100, 1000]:\n",
    "    print(f\"n={n:03} : proba = {calc_proba(n)}\")"
   ]
  },
  {
   "cell_type": "markdown",
   "metadata": {},
   "source": [
    "実際に1に近づいていく様子が見れる"
   ]
  },
  {
   "cell_type": "markdown",
   "metadata": {},
   "source": [
    "大数の法則を式で表現すると，\n",
    "$$\n",
    "P(|r/n - 0.5 | \\le \\epsilon) \\rightarrow 1 \\ \\ \\ (n \\rightarrow \\infty)\n",
    "$$"
   ]
  },
  {
   "cell_type": "code",
   "execution_count": null,
   "metadata": {},
   "outputs": [],
   "source": []
  },
  {
   "cell_type": "markdown",
   "metadata": {},
   "source": [
    "## 中心極限定理"
   ]
  },
  {
   "cell_type": "markdown",
   "metadata": {},
   "source": [
    "おおざっぱにいうと，母集団分布が何であっても$X_1,\\cdots, X_n$の確率分布の形は，nが大なるときは，大略正規分布と考えてよい．\n",
    "\n",
    "$$\n",
    "S_n = X_1 + \\cdots + X_n \\sim \\mathcal{N}(n\\mu, n\\sigma^2) \\\\\n",
    "\\bar{X} = (X_1 + \\cdots + X_n) \\ / \\ n \\sim \\mathcal{N}(n\\mu, n\\sigma^2)\n",
    "$$\n",
    "\n",
    "ということ．"
   ]
  },
  {
   "cell_type": "code",
   "execution_count": 37,
   "metadata": {},
   "outputs": [],
   "source": [
    "# サイコロをn回投げたときの和の平均\n",
    "def dice_sum(n):\n",
    "    return np.random.randint(1, 7) + np.random.randint(1, 7)"
   ]
  },
  {
   "cell_type": "code",
   "execution_count": 43,
   "metadata": {},
   "outputs": [
    {
     "data": {
      "image/png": "[encoded data removed]",
      "text/plain": [
       "<Figure size 432x288 with 1 Axes>"
      ]
     },
     "metadata": {
      "needs_background": "light"
     },
     "output_type": "display_data"
    }
   ],
   "source": [
    "# n = 2\n",
    "# 理論的には\n",
    "lst = []\n",
    "for i in range(1,7):\n",
    "    for j in range(1,7):\n",
    "        lst.append((i+j)/2)\n",
    "    \n",
    "plt.hist(lst, bins=11, ec='black')\n",
    "plt.show()"
   ]
  },
  {
   "cell_type": "code",
   "execution_count": 44,
   "metadata": {},
   "outputs": [],
   "source": [
    "# このときnをどんどん増やして行けば正規分布になる，というのが中心極限定理の内容"
   ]
  },
  {
   "cell_type": "code",
   "execution_count": 55,
   "metadata": {},
   "outputs": [
    {
     "data": {
      "image/png": "[encoded data removed]",
      "text/plain": [
       "<Figure size 432x288 with 1 Axes>"
      ]
     },
     "metadata": {
      "needs_background": "light"
     },
     "output_type": "display_data"
    }
   ],
   "source": [
    "# n = 3\n",
    "lst = []\n",
    "for i in range(1,7):\n",
    "    for j in range(1,7):\n",
    "        for k in range(1,7):\n",
    "            lst.append((i+j+k)/3)\n",
    "    \n",
    "plt.hist(lst, bins=15,ec='black')\n",
    "plt.show()"
   ]
  },
  {
   "cell_type": "code",
   "execution_count": 58,
   "metadata": {},
   "outputs": [
    {
     "data": {
      "image/png": "[encoded data removed]",
      "text/plain": [
       "<Figure size 432x288 with 1 Axes>"
      ]
     },
     "metadata": {
      "needs_background": "light"
     },
     "output_type": "display_data"
    }
   ],
   "source": [
    "# n = 4\n",
    "lst = []\n",
    "for i in range(1,7):\n",
    "    for j in range(1,7):\n",
    "        for k in range(1,7):\n",
    "            for l in range(1,7):\n",
    "                lst.append((i+j+k+l)/4)\n",
    "    \n",
    "plt.hist(lst, bins=20,ec='black')\n",
    "plt.show()"
   ]
  },
  {
   "cell_type": "code",
   "execution_count": 61,
   "metadata": {},
   "outputs": [
    {
     "data": {
      "image/png": "[encoded data removed]",
      "text/plain": [
       "<Figure size 432x288 with 1 Axes>"
      ]
     },
     "metadata": {
      "needs_background": "light"
     },
     "output_type": "display_data"
    }
   ],
   "source": [
    "# n = 5\n",
    "lst = []\n",
    "for i in range(1,7):\n",
    "    for j in range(1,7):\n",
    "        for k in range(1,7):\n",
    "            for l in range(1,7):\n",
    "                for m in range(1,7):\n",
    "                    lst.append((i+j+k+l+m)/4)\n",
    "    \n",
    "plt.hist(lst, bins=25,ec='black')\n",
    "plt.show()"
   ]
  },
  {
   "cell_type": "markdown",
   "metadata": {},
   "source": [
    "と，正規分布に近づいていくことが分かる"
   ]
  },
  {
   "cell_type": "code",
   "execution_count": null,
   "metadata": {},
   "outputs": [],
   "source": []
  },
  {
   "cell_type": "markdown",
   "metadata": {},
   "source": [
    "## 検定"
   ]
  },
  {
   "cell_type": "markdown",
   "metadata": {},
   "source": [
    "### t検定"
   ]
  },
  {
   "cell_type": "code",
   "execution_count": null,
   "metadata": {},
   "outputs": [],
   "source": []
  },
  {
   "cell_type": "markdown",
   "metadata": {},
   "source": [
    "### 2標本平均 "
   ]
  },
  {
   "cell_type": "code",
   "execution_count": null,
   "metadata": {},
   "outputs": [],
   "source": []
  }
 ],
 "metadata": {
  "kernelspec": {
   "display_name": "Python 3",
   "language": "python",
   "name": "python3"
  },
  "language_info": {
   "codemirror_mode": {
    "name": "ipython",
    "version": 3
   },
   "file_extension": ".py",
   "mimetype": "text/x-python",
   "name": "python",
   "nbconvert_exporter": "python",
   "pygments_lexer": "ipython3",
   "version": "3.8.10"
  }
 },
 "nbformat": 4,
 "nbformat_minor": 4
}
